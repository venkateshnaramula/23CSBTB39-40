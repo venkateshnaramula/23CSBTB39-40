{
  "nbformat": 4,
  "nbformat_minor": 0,
  "metadata": {
    "colab": {
      "provenance": [],
      "authorship_tag": "ABX9TyNF96piP8eHNPWxj+oXLFO9",
      "include_colab_link": true
    },
    "kernelspec": {
      "name": "python3",
      "display_name": "Python 3"
    },
    "language_info": {
      "name": "python"
    }
  },
  "cells": [
    {
      "cell_type": "markdown",
      "metadata": {
        "id": "view-in-github",
        "colab_type": "text"
      },
      "source": [
        "<a href=\"https://colab.research.google.com/github/venkateshnaramula/23CSBTB39-40/blob/main/Array1.ipynb\" target=\"_parent\"><img src=\"https://colab.research.google.com/assets/colab-badge.svg\" alt=\"Open In Colab\"/></a>"
      ]
    },
    {
      "cell_type": "code",
      "execution_count": null,
      "metadata": {
        "id": "E2TbWsUh-HZD"
      },
      "outputs": [],
      "source": []
    },
    {
      "cell_type": "markdown",
      "source": [
        "##Part 1 – Implement Basic Data Structures using Numpy, Pandas"
      ],
      "metadata": {
        "id": "TwhyAyIL-Iwl"
      }
    },
    {
      "cell_type": "code",
      "source": [
        "import numpy as np\n",
        "list={1,5,2,6,7}\n",
        "print(list)"
      ],
      "metadata": {
        "colab": {
          "base_uri": "https://localhost:8080/"
        },
        "id": "yf7HWUqz-TYH",
        "outputId": "ebed674c-5c98-41c7-f7a5-a014e2bb13a7"
      },
      "execution_count": 1,
      "outputs": [
        {
          "output_type": "stream",
          "name": "stdout",
          "text": [
            "{1, 2, 5, 6, 7}\n"
          ]
        }
      ]
    },
    {
      "cell_type": "code",
      "source": [
        "List = [\"Geeks\", \"For\", \"Geeks\"]\n",
        "print(\"\\nList Items: \")\n",
        "print(List)\n",
        "print(List[0])\n",
        "print(List[2])"
      ],
      "metadata": {
        "colab": {
          "base_uri": "https://localhost:8080/"
        },
        "id": "rxzFwExj_dYo",
        "outputId": "63ebe775-51c9-4385-e229-7d09f757e63a"
      },
      "execution_count": 5,
      "outputs": [
        {
          "output_type": "stream",
          "name": "stdout",
          "text": [
            "\n",
            "List Items: \n",
            "['Geeks', 'For', 'Geeks']\n",
            "Geeks\n",
            "Geeks\n",
            "\n",
            "List Items: \n",
            "['Geeks', 'For', 'Geeks']\n",
            "Geeks\n",
            "Geeks\n"
          ]
        }
      ]
    },
    {
      "cell_type": "code",
      "source": [],
      "metadata": {
        "id": "ziXsDvggBKuf"
      },
      "execution_count": null,
      "outputs": []
    },
    {
      "cell_type": "code",
      "source": [
        "List = [\"Geeks\", \"For\", \"Geeks\"]\n",
        "print(\"\\nList Items: \")\n",
        "print(List)\n",
        "print(List[0])\n",
        "print(List[2])"
      ],
      "metadata": {
        "colab": {
          "base_uri": "https://localhost:8080/"
        },
        "outputId": "63ebe775-51c9-4385-e229-7d09f757e63a",
        "id": "6q3g3ZhtBMXh"
      },
      "execution_count": null,
      "outputs": [
        {
          "output_type": "stream",
          "name": "stdout",
          "text": [
            "\n",
            "List Items: \n",
            "['Geeks', 'For', 'Geeks']\n",
            "Geeks\n",
            "Geeks\n",
            "\n",
            "List Items: \n",
            "['Geeks', 'For', 'Geeks']\n",
            "Geeks\n",
            "Geeks\n"
          ]
        }
      ]
    },
    {
      "cell_type": "code",
      "source": [
        "List = [1, 2, 4, 4, 3, 3, 3, 6, 5]\n",
        "print(\"\\nList with the use of Numbers: \")\n",
        "print(List)\n",
        "\n",
        "# Creating a List with\n",
        "# mixed type of values\n",
        "# (Having numbers and strings)\n",
        "List = [1, 2, 'Geeks', 4, 'For', 6, 'Geeks']\n",
        "print(\"\\nList with the use of Mixed Values: \")\n",
        "print(List)"
      ],
      "metadata": {
        "colab": {
          "base_uri": "https://localhost:8080/"
        },
        "id": "aMuC-ili_qGA",
        "outputId": "48cd30c9-2e48-43b9-f8a3-dd97983bac29"
      },
      "execution_count": 6,
      "outputs": [
        {
          "output_type": "stream",
          "name": "stdout",
          "text": [
            "\n",
            "List with the use of Numbers: \n",
            "[1, 2, 4, 4, 3, 3, 3, 6, 5]\n",
            "\n",
            "List with the use of Mixed Values: \n",
            "[1, 2, 'Geeks', 4, 'For', 6, 'Geeks']\n"
          ]
        }
      ]
    },
    {
      "cell_type": "code",
      "source": [],
      "metadata": {
        "id": "b9Jk9FjmAVsY"
      },
      "execution_count": null,
      "outputs": []
    },
    {
      "cell_type": "code",
      "source": [
        "List1 = [1, 2, 4, 4, 3, 3, 3, 6, 5]\n",
        "print(\"\\nList with the use of Numbers: \")\n",
        "print(List1)\n",
        "\n",
        "# Creating a List with\n",
        "# mixed type of values\n",
        "# (Having numbers and strings)\n",
        "List2 = [1, 2, 'Geeks', 4, 'For', 6, 'Geeks']\n",
        "print(\"\\nList with the use of Mixed Values: \")\n",
        "print(List2)"
      ],
      "metadata": {
        "colab": {
          "base_uri": "https://localhost:8080/"
        },
        "outputId": "c6921690-ecb6-4f55-d65b-cceaccbacc58",
        "id": "aq9Mf_qCAWpN"
      },
      "execution_count": 10,
      "outputs": [
        {
          "output_type": "stream",
          "name": "stdout",
          "text": [
            "\n",
            "List with the use of Numbers: \n",
            "[1, 2, 4, 4, 3, 3, 3, 6, 5]\n",
            "\n",
            "List with the use of Mixed Values: \n",
            "[1, 2, 'Geeks', 4, 'For', 6, 'Geeks']\n"
          ]
        }
      ]
    },
    {
      "cell_type": "code",
      "source": [
        "type(List2)"
      ],
      "metadata": {
        "id": "lpAyUxIMAGDT",
        "outputId": "fd70ccf0-9569-43a7-c4fa-767ca9f1b3ce",
        "colab": {
          "base_uri": "https://localhost:8080/"
        }
      },
      "execution_count": 11,
      "outputs": [
        {
          "output_type": "execute_result",
          "data": {
            "text/plain": [
              "list"
            ]
          },
          "metadata": {},
          "execution_count": 11
        }
      ]
    },
    {
      "cell_type": "code",
      "source": [
        "print(type(List2))"
      ],
      "metadata": {
        "id": "L2r7mqO7AtnK",
        "outputId": "a315701d-38fd-4e66-b9da-98d38a7e977b",
        "colab": {
          "base_uri": "https://localhost:8080/"
        }
      },
      "execution_count": 12,
      "outputs": [
        {
          "output_type": "stream",
          "name": "stdout",
          "text": [
            "<class 'list'>\n"
          ]
        }
      ]
    },
    {
      "cell_type": "code",
      "source": [
        "List3={\"Apple\",\"banana\",\"orange\"}\n",
        "print(type(List3))"
      ],
      "metadata": {
        "id": "ku44S0egBOxA",
        "outputId": "6695d303-db90-4dca-bf9c-76ecb7edb266",
        "colab": {
          "base_uri": "https://localhost:8080/"
        }
      },
      "execution_count": 13,
      "outputs": [
        {
          "output_type": "stream",
          "name": "stdout",
          "text": [
            "<class 'set'>\n"
          ]
        }
      ]
    },
    {
      "cell_type": "code",
      "source": [
        "k1=\"welcome to MLLAB\"\n",
        "print(type(k1))"
      ],
      "metadata": {
        "id": "GM21sjV5BsAb",
        "outputId": "1621e732-cef6-400c-a914-94185aa314e9",
        "colab": {
          "base_uri": "https://localhost:8080/"
        }
      },
      "execution_count": 14,
      "outputs": [
        {
          "output_type": "stream",
          "name": "stdout",
          "text": [
            "<class 'str'>\n"
          ]
        }
      ]
    },
    {
      "cell_type": "code",
      "source": [
        "str_list = \"Welcome to Guru99\"\n",
        "age = 50\n",
        "pi = 3.14\n",
        "c_num = 3j+10\n",
        "my_list = [\"A\", \"B\", \"C\", \"D\"]\n",
        "my_tuple = (\"A\", \"B\", \"C\", \"D\")\n",
        "my_dict = {\"A\":\"a\", \"B\":\"b\", \"C\":\"c\", \"D\":\"d\"}\n",
        "my_set = {'A', 'B', 'C', 'D'}"
      ],
      "metadata": {
        "id": "Zju9bcKSCBhk"
      },
      "execution_count": 17,
      "outputs": []
    },
    {
      "cell_type": "code",
      "source": [
        "print(\"The type is : \",type(str_list))\n",
        "print(\"The type is : \",type(age))\n",
        "print(\"The type is : \",type(pi))\n",
        "print(\"The type is : \",type(c_num))\n",
        "print(\"The type is : \",type(my_list))\n",
        "print(\"The type is : \",type(my_tuple))\n",
        "print(\"The type is : \",type(my_dict))\n",
        "print(\"The type is : \",type(my_set))"
      ],
      "metadata": {
        "id": "BB6dVjRHCENJ",
        "outputId": "3212660d-796a-4e4b-9701-67550730870d",
        "colab": {
          "base_uri": "https://localhost:8080/"
        }
      },
      "execution_count": 18,
      "outputs": [
        {
          "output_type": "stream",
          "name": "stdout",
          "text": [
            "The type is :  <class 'str'>\n",
            "The type is :  <class 'int'>\n",
            "The type is :  <class 'float'>\n",
            "The type is :  <class 'complex'>\n",
            "The type is :  <class 'list'>\n",
            "The type is :  <class 'tuple'>\n",
            "The type is :  <class 'dict'>\n",
            "The type is :  <class 'set'>\n"
          ]
        }
      ]
    }
  ]
}